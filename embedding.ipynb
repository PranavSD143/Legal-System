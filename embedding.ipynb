{
 "cells": [
  {
   "cell_type": "code",
   "execution_count": null,
   "id": "8a82e218",
   "metadata": {},
   "outputs": [],
   "source": [
    "import json\n",
    "import pickle \n",
    "import numpy as np"
   ]
  },
  {
   "cell_type": "code",
   "execution_count": null,
   "id": "ffa72d9b",
   "metadata": {},
   "outputs": [],
   "source": [
    "# run once\n",
    "def save_tag_index(tag_index, path=\"tag_index.pkl\"):\n",
    "    with open(path, \"wb\") as f:\n",
    "        pickle.dump(tag_index, f)\n",
    "    print(f\"Tag index saved to {path}\")"
   ]
  },
  {
   "cell_type": "code",
   "execution_count": null,
   "id": "5f5cab47",
   "metadata": {},
   "outputs": [],
   "source": [
    "def load_articles(file_path = 'articles.json'):\n",
    "    with open(file_path, 'r', encoding='utf-8') as f:\n",
    "        articles = json.load(f)\n",
    "    return articles"
   ]
  },
  {
   "cell_type": "code",
   "execution_count": null,
   "id": "446b28da",
   "metadata": {},
   "outputs": [],
   "source": [
    "def load_tag_index(path=\"tag_index.pkl\"):\n",
    "    with open(path, \"rb\") as f:\n",
    "        tag_index = pickle.load(f)\n",
    "    print(f\"Tag index loaded from {path}\")\n",
    "    return tag_index"
   ]
  }
 ],
 "metadata": {
  "kernelspec": {
   "display_name": "ve",
   "language": "python",
   "name": "python3"
  },
  "language_info": {
   "name": "python",
   "version": "3.13.2"
  }
 },
 "nbformat": 4,
 "nbformat_minor": 5
}
